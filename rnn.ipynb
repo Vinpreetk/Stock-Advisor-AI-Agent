{
  "cells": [
    {
      "cell_type": "code",
      "execution_count": null,
      "metadata": {
        "colab": {
          "base_uri": "https://localhost:8080/",
          "height": 1000
        },
        "id": "iCqY0O2or-_S",
        "outputId": "1641b3a1-8651-41e7-fc82-5758c272283e"
      },
      "outputs": [
        {
          "name": "stdout",
          "output_type": "stream",
          "text": [
            "Initial data shape: (464, 57)\n",
            "After dropping rows with excessive NaNs: (464, 57)\n",
            "Input shape: (464, 5, 11)\n",
            "Label classes: ['Average' 'Hold' 'Sell']\n",
            "Computed class weights: {0: np.float64(0.424971363115693), 1: np.float64(7.729166666666667), 2: np.float64(1.9322916666666667)}\n",
            "✅ Oversampling done. New training shape: (873, 5, 11)\n"
          ]
        },
        {
          "name": "stderr",
          "output_type": "stream",
          "text": [
            "c:\\Python313\\Lib\\site-packages\\keras\\src\\layers\\core\\masking.py:48: UserWarning: Do not pass an `input_shape`/`input_dim` argument to a layer. When using Sequential models, prefer using an `Input(shape)` object as the first layer in the model instead.\n",
            "  super().__init__(**kwargs)\n"
          ]
        },
        {
          "data": {
            "text/html": [
              "<pre style=\"white-space:pre;overflow-x:auto;line-height:normal;font-family:Menlo,'DejaVu Sans Mono',consolas,'Courier New',monospace\"><span style=\"font-weight: bold\">Model: \"sequential_5\"</span>\n",
              "</pre>\n"
            ],
            "text/plain": [
              "\u001b[1mModel: \"sequential_5\"\u001b[0m\n"
            ]
          },
          "metadata": {},
          "output_type": "display_data"
        },
        {
          "data": {
            "text/html": [
              "<pre style=\"white-space:pre;overflow-x:auto;line-height:normal;font-family:Menlo,'DejaVu Sans Mono',consolas,'Courier New',monospace\">┏━━━━━━━━━━━━━━━━━━━━━━━━━━━━━━━━━┳━━━━━━━━━━━━━━━━━━━━━━━━┳━━━━━━━━━━━━━━━┓\n",
              "┃<span style=\"font-weight: bold\"> Layer (type)                    </span>┃<span style=\"font-weight: bold\"> Output Shape           </span>┃<span style=\"font-weight: bold\">       Param # </span>┃\n",
              "┡━━━━━━━━━━━━━━━━━━━━━━━━━━━━━━━━━╇━━━━━━━━━━━━━━━━━━━━━━━━╇━━━━━━━━━━━━━━━┩\n",
              "│ masking_5 (<span style=\"color: #0087ff; text-decoration-color: #0087ff\">Masking</span>)             │ (<span style=\"color: #00d7ff; text-decoration-color: #00d7ff\">None</span>, <span style=\"color: #00af00; text-decoration-color: #00af00\">5</span>, <span style=\"color: #00af00; text-decoration-color: #00af00\">11</span>)          │             <span style=\"color: #00af00; text-decoration-color: #00af00\">0</span> │\n",
              "├─────────────────────────────────┼────────────────────────┼───────────────┤\n",
              "│ bidirectional_5 (<span style=\"color: #0087ff; text-decoration-color: #0087ff\">Bidirectional</span>) │ (<span style=\"color: #00d7ff; text-decoration-color: #00d7ff\">None</span>, <span style=\"color: #00af00; text-decoration-color: #00af00\">128</span>)            │        <span style=\"color: #00af00; text-decoration-color: #00af00\">38,912</span> │\n",
              "├─────────────────────────────────┼────────────────────────┼───────────────┤\n",
              "│ dropout_5 (<span style=\"color: #0087ff; text-decoration-color: #0087ff\">Dropout</span>)             │ (<span style=\"color: #00d7ff; text-decoration-color: #00d7ff\">None</span>, <span style=\"color: #00af00; text-decoration-color: #00af00\">128</span>)            │             <span style=\"color: #00af00; text-decoration-color: #00af00\">0</span> │\n",
              "├─────────────────────────────────┼────────────────────────┼───────────────┤\n",
              "│ dense_10 (<span style=\"color: #0087ff; text-decoration-color: #0087ff\">Dense</span>)                │ (<span style=\"color: #00d7ff; text-decoration-color: #00d7ff\">None</span>, <span style=\"color: #00af00; text-decoration-color: #00af00\">32</span>)             │         <span style=\"color: #00af00; text-decoration-color: #00af00\">4,128</span> │\n",
              "├─────────────────────────────────┼────────────────────────┼───────────────┤\n",
              "│ dense_11 (<span style=\"color: #0087ff; text-decoration-color: #0087ff\">Dense</span>)                │ (<span style=\"color: #00d7ff; text-decoration-color: #00d7ff\">None</span>, <span style=\"color: #00af00; text-decoration-color: #00af00\">3</span>)              │            <span style=\"color: #00af00; text-decoration-color: #00af00\">99</span> │\n",
              "└─────────────────────────────────┴────────────────────────┴───────────────┘\n",
              "</pre>\n"
            ],
            "text/plain": [
              "┏━━━━━━━━━━━━━━━━━━━━━━━━━━━━━━━━━┳━━━━━━━━━━━━━━━━━━━━━━━━┳━━━━━━━━━━━━━━━┓\n",
              "┃\u001b[1m \u001b[0m\u001b[1mLayer (type)                   \u001b[0m\u001b[1m \u001b[0m┃\u001b[1m \u001b[0m\u001b[1mOutput Shape          \u001b[0m\u001b[1m \u001b[0m┃\u001b[1m \u001b[0m\u001b[1m      Param #\u001b[0m\u001b[1m \u001b[0m┃\n",
              "┡━━━━━━━━━━━━━━━━━━━━━━━━━━━━━━━━━╇━━━━━━━━━━━━━━━━━━━━━━━━╇━━━━━━━━━━━━━━━┩\n",
              "│ masking_5 (\u001b[38;5;33mMasking\u001b[0m)             │ (\u001b[38;5;45mNone\u001b[0m, \u001b[38;5;34m5\u001b[0m, \u001b[38;5;34m11\u001b[0m)          │             \u001b[38;5;34m0\u001b[0m │\n",
              "├─────────────────────────────────┼────────────────────────┼───────────────┤\n",
              "│ bidirectional_5 (\u001b[38;5;33mBidirectional\u001b[0m) │ (\u001b[38;5;45mNone\u001b[0m, \u001b[38;5;34m128\u001b[0m)            │        \u001b[38;5;34m38,912\u001b[0m │\n",
              "├─────────────────────────────────┼────────────────────────┼───────────────┤\n",
              "│ dropout_5 (\u001b[38;5;33mDropout\u001b[0m)             │ (\u001b[38;5;45mNone\u001b[0m, \u001b[38;5;34m128\u001b[0m)            │             \u001b[38;5;34m0\u001b[0m │\n",
              "├─────────────────────────────────┼────────────────────────┼───────────────┤\n",
              "│ dense_10 (\u001b[38;5;33mDense\u001b[0m)                │ (\u001b[38;5;45mNone\u001b[0m, \u001b[38;5;34m32\u001b[0m)             │         \u001b[38;5;34m4,128\u001b[0m │\n",
              "├─────────────────────────────────┼────────────────────────┼───────────────┤\n",
              "│ dense_11 (\u001b[38;5;33mDense\u001b[0m)                │ (\u001b[38;5;45mNone\u001b[0m, \u001b[38;5;34m3\u001b[0m)              │            \u001b[38;5;34m99\u001b[0m │\n",
              "└─────────────────────────────────┴────────────────────────┴───────────────┘\n"
            ]
          },
          "metadata": {},
          "output_type": "display_data"
        },
        {
          "data": {
            "text/html": [
              "<pre style=\"white-space:pre;overflow-x:auto;line-height:normal;font-family:Menlo,'DejaVu Sans Mono',consolas,'Courier New',monospace\"><span style=\"font-weight: bold\"> Total params: </span><span style=\"color: #00af00; text-decoration-color: #00af00\">43,139</span> (168.51 KB)\n",
              "</pre>\n"
            ],
            "text/plain": [
              "\u001b[1m Total params: \u001b[0m\u001b[38;5;34m43,139\u001b[0m (168.51 KB)\n"
            ]
          },
          "metadata": {},
          "output_type": "display_data"
        },
        {
          "data": {
            "text/html": [
              "<pre style=\"white-space:pre;overflow-x:auto;line-height:normal;font-family:Menlo,'DejaVu Sans Mono',consolas,'Courier New',monospace\"><span style=\"font-weight: bold\"> Trainable params: </span><span style=\"color: #00af00; text-decoration-color: #00af00\">43,139</span> (168.51 KB)\n",
              "</pre>\n"
            ],
            "text/plain": [
              "\u001b[1m Trainable params: \u001b[0m\u001b[38;5;34m43,139\u001b[0m (168.51 KB)\n"
            ]
          },
          "metadata": {},
          "output_type": "display_data"
        },
        {
          "data": {
            "text/html": [
              "<pre style=\"white-space:pre;overflow-x:auto;line-height:normal;font-family:Menlo,'DejaVu Sans Mono',consolas,'Courier New',monospace\"><span style=\"font-weight: bold\"> Non-trainable params: </span><span style=\"color: #00af00; text-decoration-color: #00af00\">0</span> (0.00 B)\n",
              "</pre>\n"
            ],
            "text/plain": [
              "\u001b[1m Non-trainable params: \u001b[0m\u001b[38;5;34m0\u001b[0m (0.00 B)\n"
            ]
          },
          "metadata": {},
          "output_type": "display_data"
        },
        {
          "name": "stdout",
          "output_type": "stream",
          "text": [
            "Epoch 1/50\n",
            "50/50 - 31s - 623ms/step - accuracy: 0.3707 - loss: 2.9866 - val_accuracy: 0.0000e+00 - val_loss: 2.2707\n",
            "Epoch 2/50\n",
            "50/50 - 1s - 24ms/step - accuracy: 0.3707 - loss: 2.1333 - val_accuracy: 0.0000e+00 - val_loss: 1.9719\n",
            "Epoch 3/50\n",
            "50/50 - 1s - 22ms/step - accuracy: 0.3707 - loss: 2.0893 - val_accuracy: 0.0000e+00 - val_loss: 1.8317\n",
            "Epoch 4/50\n",
            "50/50 - 1s - 27ms/step - accuracy: 0.3707 - loss: 2.0650 - val_accuracy: 0.0000e+00 - val_loss: 1.8868\n",
            "Epoch 5/50\n",
            "50/50 - 1s - 27ms/step - accuracy: 0.3707 - loss: 2.0377 - val_accuracy: 0.0000e+00 - val_loss: 1.9766\n",
            "Epoch 6/50\n",
            "50/50 - 1s - 29ms/step - accuracy: 0.3847 - loss: 2.0255 - val_accuracy: 0.0000e+00 - val_loss: 2.0920\n",
            "Epoch 7/50\n",
            "50/50 - 2s - 30ms/step - accuracy: 0.3898 - loss: 1.9920 - val_accuracy: 0.0000e+00 - val_loss: 1.9814\n",
            "Epoch 8/50\n",
            "50/50 - 1s - 26ms/step - accuracy: 0.4000 - loss: 1.9729 - val_accuracy: 0.0000e+00 - val_loss: 1.7774\n",
            "Epoch 9/50\n",
            "50/50 - 1s - 27ms/step - accuracy: 0.4178 - loss: 1.9121 - val_accuracy: 0.0000e+00 - val_loss: 2.2205\n",
            "Epoch 10/50\n",
            "50/50 - 1s - 28ms/step - accuracy: 0.4268 - loss: 1.8965 - val_accuracy: 0.0341 - val_loss: 1.8820\n",
            "Epoch 11/50\n",
            "50/50 - 1s - 27ms/step - accuracy: 0.4433 - loss: 1.8417 - val_accuracy: 0.0682 - val_loss: 2.1937\n",
            "Epoch 12/50\n",
            "50/50 - 1s - 25ms/step - accuracy: 0.4535 - loss: 1.8777 - val_accuracy: 0.0682 - val_loss: 1.7269\n",
            "Epoch 13/50\n",
            "50/50 - 1s - 28ms/step - accuracy: 0.4688 - loss: 1.7933 - val_accuracy: 0.1023 - val_loss: 1.9356\n",
            "Epoch 14/50\n",
            "50/50 - 1s - 28ms/step - accuracy: 0.4688 - loss: 1.7605 - val_accuracy: 0.0909 - val_loss: 2.2954\n",
            "Epoch 15/50\n",
            "50/50 - 1s - 29ms/step - accuracy: 0.4713 - loss: 1.7728 - val_accuracy: 0.1023 - val_loss: 2.1277\n",
            "Epoch 16/50\n",
            "50/50 - 2s - 49ms/step - accuracy: 0.4395 - loss: 1.8990 - val_accuracy: 0.0227 - val_loss: 1.8429\n",
            "Epoch 17/50\n",
            "50/50 - 1s - 27ms/step - accuracy: 0.4433 - loss: 1.8659 - val_accuracy: 0.0682 - val_loss: 1.9779\n",
            "\u001b[1m3/3\u001b[0m \u001b[32m━━━━━━━━━━━━━━━━━━━━\u001b[0m\u001b[37m\u001b[0m \u001b[1m0s\u001b[0m 114ms/step - accuracy: 0.1720 - loss: 2.3960\n",
            "✅ Test Accuracy: 0.17204301059246063\n",
            "\u001b[1m3/3\u001b[0m \u001b[32m━━━━━━━━━━━━━━━━━━━━\u001b[0m\u001b[37m\u001b[0m \u001b[1m5s\u001b[0m 1s/step\n"
          ]
        },
        {
          "data": {
            "image/png": "[encoded data removed]",
            "text/plain": [
              "<Figure size 600x400 with 2 Axes>"
            ]
          },
          "metadata": {},
          "output_type": "display_data"
        },
        {
          "name": "stdout",
          "output_type": "stream",
          "text": [
            "\n",
            "📊 Classification Report:\n",
            "              precision    recall  f1-score   support\n",
            "\n",
            "     Average       0.89      0.11      0.20        73\n",
            "        Hold       0.05      1.00      0.10         4\n",
            "        Sell       0.44      0.25      0.32        16\n",
            "\n",
            "    accuracy                           0.17        93\n",
            "   macro avg       0.46      0.45      0.21        93\n",
            "weighted avg       0.78      0.17      0.21        93\n",
            "\n"
          ]
        }
      ],
      "source": [
        "import pandas as pd\n",
        "import numpy as np\n",
        "from sklearn.preprocessing import MinMaxScaler, LabelEncoder\n",
        "from sklearn.model_selection import train_test_split\n",
        "from sklearn.metrics import classification_report, confusion_matrix\n",
        "from sklearn.utils.class_weight import compute_class_weight\n",
        "import matplotlib.pyplot as plt\n",
        "import seaborn as sns\n",
        "from tensorflow.keras.models import Sequential\n",
        "from tensorflow.keras.layers import LSTM, Dense, Masking, Dropout, Bidirectional\n",
        "from tensorflow.keras.callbacks import EarlyStopping\n",
        "from sklearn.utils import resample\n",
        "\n",
        "# Load dataset and filter invalid ratings\n",
        "df = pd.read_excel(\"labeled_stocks_with_price.xlsx\")\n",
        "df = df[df['Rating'].isin(['Average', 'Hold', 'Sell'])]\n",
        "print(\"Initial data shape:\", df.shape)\n",
        "\n",
        "# Drop rows with too many NaNs\n",
        "df.dropna(thresh=50, inplace=True)\n",
        "print(\"After dropping rows with excessive NaNs:\", df.shape)\n",
        "\n",
        "# Define structure\n",
        "quarters = ['Mar 2024', 'Jun 2024', 'Sep 2024', 'Dec 2024', 'Mar 2025']\n",
        "features = ['Sales+', 'Expenses', 'Operating Profit', 'OPM %', 'Other Income',\n",
        "             'Net Profit', 'EPS in Rs']\n",
        "\n",
        "# Prepare sequences\n",
        "X, y = [], []\n",
        "for stock in df['Stock'].unique():\n",
        "    stock_data = df[df['Stock'] == stock]\n",
        "    rating = stock_data.iloc[0].get('Rating')\n",
        "    if pd.isna(rating):\n",
        "        continue\n",
        "\n",
        "    sequence = []\n",
        "    for q in quarters:\n",
        "        row = []\n",
        "        for f in features:\n",
        "            col_name = f\"{q}_{f}\"\n",
        "            row.append(stock_data.iloc[0].get(col_name, np.nan))\n",
        "        sequence.append(row)\n",
        "\n",
        "    sequence = np.array(sequence)\n",
        "    if np.isnan(sequence).sum() > 10:\n",
        "        continue\n",
        "\n",
        "    sequence = pd.DataFrame(sequence).ffill().bfill().values\n",
        "    X.append(sequence)\n",
        "    y.append(rating)\n",
        "\n",
        "X = np.array(X)\n",
        "y = np.array(y)\n",
        "print(\"Input shape:\", X.shape)\n",
        "\n",
        "# Normalize\n",
        "scaler = MinMaxScaler()\n",
        "n_timesteps, n_features = X.shape[1], X.shape[2]\n",
        "X_scaled = scaler.fit_transform(X.reshape(-1, n_features)).reshape(-1, n_timesteps, n_features)\n",
        "\n",
        "# Encode labels\n",
        "label_encoder = LabelEncoder()\n",
        "y_encoded = label_encoder.fit_transform(y)\n",
        "print(\"Label classes:\", label_encoder.classes_)\n",
        "\n",
        "# Train/test split\n",
        "X_train, X_test, y_train, y_test = train_test_split(\n",
        "    X_scaled, y_encoded, test_size=0.2, random_state=42, stratify=y_encoded\n",
        ")\n",
        "\n",
        "# Compute class weights (based on original unbalanced data)\n",
        "class_weights = compute_class_weight(\n",
        "    class_weight='balanced',\n",
        "    classes=np.unique(y_train),\n",
        "    y=y_train\n",
        ")\n",
        "class_weights_dict = dict(enumerate(class_weights))\n",
        "print(\"Computed class weights:\", class_weights_dict)\n",
        "\n",
        "# Optional: Oversample training data to further balance\n",
        "X_train_balanced, y_train_balanced = [], []\n",
        "unique_classes, counts = np.unique(y_train, return_counts=True)\n",
        "max_count = max(counts)\n",
        "\n",
        "for cls in unique_classes:\n",
        "    idxs = np.where(y_train == cls)[0]\n",
        "    X_cls = X_train[idxs]\n",
        "    y_cls = y_train[idxs]\n",
        "\n",
        "    X_res, y_res = resample(X_cls, y_cls, replace=True, n_samples=max_count, random_state=42)\n",
        "    X_train_balanced.append(X_res)\n",
        "    y_train_balanced.append(y_res)\n",
        "\n",
        "X_train = np.concatenate(X_train_balanced)\n",
        "y_train = np.concatenate(y_train_balanced)\n",
        "print(\"✅ Oversampling done. New training shape:\", X_train.shape)\n",
        "\n",
        "# Build model\n",
        "model = Sequential([\n",
        "    Masking(mask_value=0., input_shape=(n_timesteps, n_features)),\n",
        "    Bidirectional(LSTM(64, return_sequences=False)),\n",
        "    Dropout(0.4),\n",
        "    Dense(32, activation='relu'),\n",
        "    Dense(3, activation='softmax')\n",
        "])\n",
        "\n",
        "model.compile(optimizer='adam', loss='sparse_categorical_crossentropy', metrics=['accuracy'])\n",
        "model.summary()\n",
        "\n",
        "# Early stopping\n",
        "early_stop = EarlyStopping(monitor='val_loss', patience=5, restore_best_weights=True)\n",
        "\n",
        "# Train\n",
        "model.fit(\n",
        "    X_train, y_train,\n",
        "    epochs=50,\n",
        "    batch_size=16,\n",
        "    validation_split=0.1,\n",
        "    callbacks=[early_stop],\n",
        "    class_weight=class_weights_dict,\n",
        "    verbose=2\n",
        ")\n",
        "\n",
        "# Evaluate\n",
        "loss, accuracy = model.evaluate(X_test, y_test)\n",
        "print(\"✅ Test Accuracy:\", accuracy)\n",
        "\n",
        "# Predict\n",
        "y_pred = model.predict(X_test).argmax(axis=1)\n",
        "labels = label_encoder.classes_\n",
        "\n",
        "# Confusion Matrix\n",
        "cm = confusion_matrix(y_test, y_pred)\n",
        "plt.figure(figsize=(6, 4))\n",
        "sns.heatmap(cm, annot=True, fmt='d', cmap='Blues', xticklabels=labels, yticklabels=labels)\n",
        "plt.xlabel(\"Predicted\")\n",
        "plt.ylabel(\"Actual\")\n",
        "plt.title(\"Confusion Matrix\")\n",
        "plt.tight_layout()\n",
        "plt.show()\n",
        "\n",
        "# Classification Report\n",
        "print(\"\\n📊 Classification Report:\")\n",
        "print(classification_report(y_test, y_pred, target_names=labels, zero_division=0))\n"
      ]
    }
  ],
  "metadata": {
    "colab": {
      "provenance": []
    },
    "kernelspec": {
      "display_name": "Python 3",
      "name": "python3"
    },
    "language_info": {
      "codemirror_mode": {
        "name": "ipython",
        "version": 3
      },
      "file_extension": ".py",
      "mimetype": "text/x-python",
      "name": "python",
      "nbconvert_exporter": "python",
      "pygments_lexer": "ipython3",
      "version": "3.13.5"
    }
  },
  "nbformat": 4,
  "nbformat_minor": 0
}
